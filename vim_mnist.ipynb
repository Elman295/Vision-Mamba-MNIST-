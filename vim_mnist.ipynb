{
  "nbformat": 4,
  "nbformat_minor": 0,
  "metadata": {
    "colab": {
      "provenance": [],
      "gpuType": "T4",
      "authorship_tag": "ABX9TyP8ixe8w9/5bYNiIX3QdBW0",
      "include_colab_link": true
    },
    "kernelspec": {
      "name": "python3",
      "display_name": "Python 3"
    },
    "language_info": {
      "name": "python"
    },
    "accelerator": "GPU"
  },
  "cells": [
    {
      "cell_type": "markdown",
      "metadata": {
        "id": "view-in-github",
        "colab_type": "text"
      },
      "source": [
        "<a href=\"https://colab.research.google.com/github/Elman295/Vision-Mamba-MNIST-/blob/main/vim_mnist.ipynb\" target=\"_parent\"><img src=\"https://colab.research.google.com/assets/colab-badge.svg\" alt=\"Open In Colab\"/></a>"
      ]
    },
    {
      "cell_type": "code",
      "source": [
        "!pip install mamba_ssm"
      ],
      "metadata": {
        "colab": {
          "base_uri": "https://localhost:8080/"
        },
        "id": "_X5DVW2w6XoZ",
        "outputId": "41262faf-10bc-44ba-ddaf-3a63b4a480ce"
      },
      "execution_count": null,
      "outputs": [
        {
          "output_type": "stream",
          "name": "stdout",
          "text": [
            "Collecting mamba_ssm\n",
            "  Downloading mamba_ssm-1.2.0.post1.tar.gz (34 kB)\n",
            "  Preparing metadata (setup.py) ... \u001b[?25l\u001b[?25hdone\n",
            "Requirement already satisfied: torch in /usr/local/lib/python3.10/dist-packages (from mamba_ssm) (2.2.1+cu121)\n",
            "Requirement already satisfied: packaging in /usr/local/lib/python3.10/dist-packages (from mamba_ssm) (24.0)\n",
            "Collecting ninja (from mamba_ssm)\n",
            "  Downloading ninja-1.11.1.1-py2.py3-none-manylinux1_x86_64.manylinux_2_5_x86_64.whl (307 kB)\n",
            "\u001b[2K     \u001b[90m━━━━━━━━━━━━━━━━━━━━━━━━━━━━━━━━━━━━━━━━\u001b[0m \u001b[32m307.2/307.2 kB\u001b[0m \u001b[31m6.5 MB/s\u001b[0m eta \u001b[36m0:00:00\u001b[0m\n",
            "\u001b[?25hCollecting einops (from mamba_ssm)\n",
            "  Downloading einops-0.7.0-py3-none-any.whl (44 kB)\n",
            "\u001b[2K     \u001b[90m━━━━━━━━━━━━━━━━━━━━━━━━━━━━━━━━━━━━━━━━\u001b[0m \u001b[32m44.6/44.6 kB\u001b[0m \u001b[31m3.9 MB/s\u001b[0m eta \u001b[36m0:00:00\u001b[0m\n",
            "\u001b[?25hRequirement already satisfied: triton in /usr/local/lib/python3.10/dist-packages (from mamba_ssm) (2.2.0)\n",
            "Requirement already satisfied: transformers in /usr/local/lib/python3.10/dist-packages (from mamba_ssm) (4.38.2)\n",
            "Requirement already satisfied: filelock in /usr/local/lib/python3.10/dist-packages (from torch->mamba_ssm) (3.13.4)\n",
            "Requirement already satisfied: typing-extensions>=4.8.0 in /usr/local/lib/python3.10/dist-packages (from torch->mamba_ssm) (4.11.0)\n",
            "Requirement already satisfied: sympy in /usr/local/lib/python3.10/dist-packages (from torch->mamba_ssm) (1.12)\n",
            "Requirement already satisfied: networkx in /usr/local/lib/python3.10/dist-packages (from torch->mamba_ssm) (3.3)\n",
            "Requirement already satisfied: jinja2 in /usr/local/lib/python3.10/dist-packages (from torch->mamba_ssm) (3.1.3)\n",
            "Requirement already satisfied: fsspec in /usr/local/lib/python3.10/dist-packages (from torch->mamba_ssm) (2023.6.0)\n",
            "Collecting nvidia-cuda-nvrtc-cu12==12.1.105 (from torch->mamba_ssm)\n",
            "  Using cached nvidia_cuda_nvrtc_cu12-12.1.105-py3-none-manylinux1_x86_64.whl (23.7 MB)\n",
            "Collecting nvidia-cuda-runtime-cu12==12.1.105 (from torch->mamba_ssm)\n",
            "  Using cached nvidia_cuda_runtime_cu12-12.1.105-py3-none-manylinux1_x86_64.whl (823 kB)\n",
            "Collecting nvidia-cuda-cupti-cu12==12.1.105 (from torch->mamba_ssm)\n",
            "  Using cached nvidia_cuda_cupti_cu12-12.1.105-py3-none-manylinux1_x86_64.whl (14.1 MB)\n",
            "Collecting nvidia-cudnn-cu12==8.9.2.26 (from torch->mamba_ssm)\n",
            "  Using cached nvidia_cudnn_cu12-8.9.2.26-py3-none-manylinux1_x86_64.whl (731.7 MB)\n",
            "Collecting nvidia-cublas-cu12==12.1.3.1 (from torch->mamba_ssm)\n",
            "  Using cached nvidia_cublas_cu12-12.1.3.1-py3-none-manylinux1_x86_64.whl (410.6 MB)\n",
            "Collecting nvidia-cufft-cu12==11.0.2.54 (from torch->mamba_ssm)\n",
            "  Using cached nvidia_cufft_cu12-11.0.2.54-py3-none-manylinux1_x86_64.whl (121.6 MB)\n",
            "Collecting nvidia-curand-cu12==10.3.2.106 (from torch->mamba_ssm)\n",
            "  Using cached nvidia_curand_cu12-10.3.2.106-py3-none-manylinux1_x86_64.whl (56.5 MB)\n",
            "Collecting nvidia-cusolver-cu12==11.4.5.107 (from torch->mamba_ssm)\n",
            "  Using cached nvidia_cusolver_cu12-11.4.5.107-py3-none-manylinux1_x86_64.whl (124.2 MB)\n",
            "Collecting nvidia-cusparse-cu12==12.1.0.106 (from torch->mamba_ssm)\n",
            "  Using cached nvidia_cusparse_cu12-12.1.0.106-py3-none-manylinux1_x86_64.whl (196.0 MB)\n",
            "Collecting nvidia-nccl-cu12==2.19.3 (from torch->mamba_ssm)\n",
            "  Using cached nvidia_nccl_cu12-2.19.3-py3-none-manylinux1_x86_64.whl (166.0 MB)\n",
            "Collecting nvidia-nvtx-cu12==12.1.105 (from torch->mamba_ssm)\n",
            "  Using cached nvidia_nvtx_cu12-12.1.105-py3-none-manylinux1_x86_64.whl (99 kB)\n",
            "Collecting nvidia-nvjitlink-cu12 (from nvidia-cusolver-cu12==11.4.5.107->torch->mamba_ssm)\n",
            "  Using cached nvidia_nvjitlink_cu12-12.4.127-py3-none-manylinux2014_x86_64.whl (21.1 MB)\n",
            "Requirement already satisfied: huggingface-hub<1.0,>=0.19.3 in /usr/local/lib/python3.10/dist-packages (from transformers->mamba_ssm) (0.20.3)\n",
            "Requirement already satisfied: numpy>=1.17 in /usr/local/lib/python3.10/dist-packages (from transformers->mamba_ssm) (1.25.2)\n",
            "Requirement already satisfied: pyyaml>=5.1 in /usr/local/lib/python3.10/dist-packages (from transformers->mamba_ssm) (6.0.1)\n",
            "Requirement already satisfied: regex!=2019.12.17 in /usr/local/lib/python3.10/dist-packages (from transformers->mamba_ssm) (2023.12.25)\n",
            "Requirement already satisfied: requests in /usr/local/lib/python3.10/dist-packages (from transformers->mamba_ssm) (2.31.0)\n",
            "Requirement already satisfied: tokenizers<0.19,>=0.14 in /usr/local/lib/python3.10/dist-packages (from transformers->mamba_ssm) (0.15.2)\n",
            "Requirement already satisfied: safetensors>=0.4.1 in /usr/local/lib/python3.10/dist-packages (from transformers->mamba_ssm) (0.4.3)\n",
            "Requirement already satisfied: tqdm>=4.27 in /usr/local/lib/python3.10/dist-packages (from transformers->mamba_ssm) (4.66.2)\n",
            "Requirement already satisfied: MarkupSafe>=2.0 in /usr/local/lib/python3.10/dist-packages (from jinja2->torch->mamba_ssm) (2.1.5)\n",
            "Requirement already satisfied: charset-normalizer<4,>=2 in /usr/local/lib/python3.10/dist-packages (from requests->transformers->mamba_ssm) (3.3.2)\n",
            "Requirement already satisfied: idna<4,>=2.5 in /usr/local/lib/python3.10/dist-packages (from requests->transformers->mamba_ssm) (3.7)\n",
            "Requirement already satisfied: urllib3<3,>=1.21.1 in /usr/local/lib/python3.10/dist-packages (from requests->transformers->mamba_ssm) (2.0.7)\n",
            "Requirement already satisfied: certifi>=2017.4.17 in /usr/local/lib/python3.10/dist-packages (from requests->transformers->mamba_ssm) (2024.2.2)\n",
            "Requirement already satisfied: mpmath>=0.19 in /usr/local/lib/python3.10/dist-packages (from sympy->torch->mamba_ssm) (1.3.0)\n",
            "Building wheels for collected packages: mamba_ssm\n",
            "  Building wheel for mamba_ssm (setup.py) ... \u001b[?25l\u001b[?25hdone\n",
            "  Created wheel for mamba_ssm: filename=mamba_ssm-1.2.0.post1-cp310-cp310-linux_x86_64.whl size=137750683 sha256=b264292652a34fb9dd0ce880a34a4407ba7256a3338388d056769ec29a4581c9\n",
            "  Stored in directory: /root/.cache/pip/wheels/22/6e/60/ddd5c574b5793a30028f2cabdacd2a3ec2276edaaa8c00fd35\n",
            "Successfully built mamba_ssm\n",
            "Installing collected packages: ninja, nvidia-nvtx-cu12, nvidia-nvjitlink-cu12, nvidia-nccl-cu12, nvidia-curand-cu12, nvidia-cufft-cu12, nvidia-cuda-runtime-cu12, nvidia-cuda-nvrtc-cu12, nvidia-cuda-cupti-cu12, nvidia-cublas-cu12, einops, nvidia-cusparse-cu12, nvidia-cudnn-cu12, nvidia-cusolver-cu12, mamba_ssm\n",
            "Successfully installed einops-0.7.0 mamba_ssm-1.2.0.post1 ninja-1.11.1.1 nvidia-cublas-cu12-12.1.3.1 nvidia-cuda-cupti-cu12-12.1.105 nvidia-cuda-nvrtc-cu12-12.1.105 nvidia-cuda-runtime-cu12-12.1.105 nvidia-cudnn-cu12-8.9.2.26 nvidia-cufft-cu12-11.0.2.54 nvidia-curand-cu12-10.3.2.106 nvidia-cusolver-cu12-11.4.5.107 nvidia-cusparse-cu12-12.1.0.106 nvidia-nccl-cu12-2.19.3 nvidia-nvjitlink-cu12-12.4.127 nvidia-nvtx-cu12-12.1.105\n"
          ]
        }
      ]
    },
    {
      "cell_type": "code",
      "source": [
        "if torch.cuda.is_available():\n",
        "  device = torch.device(\"cuda\")\n",
        "else:\n",
        "  device = torch.device(\"cpu\")"
      ],
      "metadata": {
        "id": "EQY1y0XX7OP9"
      },
      "execution_count": null,
      "outputs": []
    },
    {
      "cell_type": "code",
      "execution_count": null,
      "metadata": {
        "id": "FopBB6-caf23"
      },
      "outputs": [],
      "source": [
        "import torch\n",
        "import torchvision\n",
        "from torchvision import datasets, transforms\n",
        "from torch.utils.data import DataLoader, Dataset\n",
        "from torch import nn\n",
        "from mamba_ssm import Mamba\n",
        "\n",
        "import numpy as np\n",
        "import matplotlib.pyplot as plt"
      ]
    },
    {
      "cell_type": "code",
      "source": [
        "x = torch.rand(size = (16,100,200), device =device)\n",
        "\n",
        "mabda = Mamba(200).to(device)\n",
        "y = mabda(x)"
      ],
      "metadata": {
        "id": "8q9L1d0c6xph"
      },
      "execution_count": null,
      "outputs": []
    },
    {
      "cell_type": "code",
      "source": [
        "y.shape"
      ],
      "metadata": {
        "colab": {
          "base_uri": "https://localhost:8080/"
        },
        "id": "UDjD_X5g7T1f",
        "outputId": "87f80341-2c5e-46ae-a6de-ddadefc3dfdc"
      },
      "execution_count": null,
      "outputs": [
        {
          "output_type": "execute_result",
          "data": {
            "text/plain": [
              "torch.Size([16, 100, 200])"
            ]
          },
          "metadata": {},
          "execution_count": 8
        }
      ]
    },
    {
      "cell_type": "code",
      "source": [
        "train_d = datasets.MNIST(\n",
        "    root = \"data\",\n",
        "    train = True,\n",
        "    download = True,\n",
        "    transform = transforms.ToTensor()\n",
        ")\n",
        "\n",
        "test_d = datasets.MNIST(\n",
        "    root = \"data\",\n",
        "    train = False,\n",
        "    download = True,\n",
        "    transform = transforms.ToTensor()\n",
        ")"
      ],
      "metadata": {
        "colab": {
          "base_uri": "https://localhost:8080/"
        },
        "id": "D62hUQiubB9n",
        "outputId": "8b9ea1be-dc02-4b05-a9e9-eb61cc607977"
      },
      "execution_count": null,
      "outputs": [
        {
          "output_type": "stream",
          "name": "stdout",
          "text": [
            "Downloading http://yann.lecun.com/exdb/mnist/train-images-idx3-ubyte.gz\n",
            "Downloading http://yann.lecun.com/exdb/mnist/train-images-idx3-ubyte.gz to data/MNIST/raw/train-images-idx3-ubyte.gz\n"
          ]
        },
        {
          "output_type": "stream",
          "name": "stderr",
          "text": [
            "100%|██████████| 9912422/9912422 [00:00<00:00, 183389622.92it/s]"
          ]
        },
        {
          "output_type": "stream",
          "name": "stdout",
          "text": [
            "Extracting data/MNIST/raw/train-images-idx3-ubyte.gz to data/MNIST/raw\n"
          ]
        },
        {
          "output_type": "stream",
          "name": "stderr",
          "text": [
            "\n"
          ]
        },
        {
          "output_type": "stream",
          "name": "stdout",
          "text": [
            "\n",
            "Downloading http://yann.lecun.com/exdb/mnist/train-labels-idx1-ubyte.gz\n",
            "Downloading http://yann.lecun.com/exdb/mnist/train-labels-idx1-ubyte.gz to data/MNIST/raw/train-labels-idx1-ubyte.gz\n"
          ]
        },
        {
          "output_type": "stream",
          "name": "stderr",
          "text": [
            "100%|██████████| 28881/28881 [00:00<00:00, 32038004.19it/s]\n"
          ]
        },
        {
          "output_type": "stream",
          "name": "stdout",
          "text": [
            "Extracting data/MNIST/raw/train-labels-idx1-ubyte.gz to data/MNIST/raw\n",
            "\n",
            "Downloading http://yann.lecun.com/exdb/mnist/t10k-images-idx3-ubyte.gz\n",
            "Downloading http://yann.lecun.com/exdb/mnist/t10k-images-idx3-ubyte.gz to data/MNIST/raw/t10k-images-idx3-ubyte.gz\n"
          ]
        },
        {
          "output_type": "stream",
          "name": "stderr",
          "text": [
            "100%|██████████| 1648877/1648877 [00:00<00:00, 41920082.66it/s]"
          ]
        },
        {
          "output_type": "stream",
          "name": "stdout",
          "text": [
            "Extracting data/MNIST/raw/t10k-images-idx3-ubyte.gz to data/MNIST/raw\n"
          ]
        },
        {
          "output_type": "stream",
          "name": "stderr",
          "text": [
            "\n"
          ]
        },
        {
          "output_type": "stream",
          "name": "stdout",
          "text": [
            "\n",
            "Downloading http://yann.lecun.com/exdb/mnist/t10k-labels-idx1-ubyte.gz\n",
            "Downloading http://yann.lecun.com/exdb/mnist/t10k-labels-idx1-ubyte.gz to data/MNIST/raw/t10k-labels-idx1-ubyte.gz\n"
          ]
        },
        {
          "output_type": "stream",
          "name": "stderr",
          "text": [
            "100%|██████████| 4542/4542 [00:00<00:00, 17606773.35it/s]"
          ]
        },
        {
          "output_type": "stream",
          "name": "stdout",
          "text": [
            "Extracting data/MNIST/raw/t10k-labels-idx1-ubyte.gz to data/MNIST/raw\n",
            "\n"
          ]
        },
        {
          "output_type": "stream",
          "name": "stderr",
          "text": [
            "\n"
          ]
        }
      ]
    },
    {
      "cell_type": "code",
      "source": [
        "len(train_d)"
      ],
      "metadata": {
        "colab": {
          "base_uri": "https://localhost:8080/"
        },
        "id": "oOA51WbIcF3a",
        "outputId": "6a6bd6ba-8056-4057-cdad-1e8b0207bf48"
      },
      "execution_count": null,
      "outputs": [
        {
          "output_type": "execute_result",
          "data": {
            "text/plain": [
              "60000"
            ]
          },
          "metadata": {},
          "execution_count": 10
        }
      ]
    },
    {
      "cell_type": "code",
      "source": [
        "len(test_d)"
      ],
      "metadata": {
        "colab": {
          "base_uri": "https://localhost:8080/"
        },
        "id": "kYbP_LcJcI5j",
        "outputId": "4a9c005f-2b42-4f12-b1c6-c89f0f017811"
      },
      "execution_count": null,
      "outputs": [
        {
          "output_type": "execute_result",
          "data": {
            "text/plain": [
              "10000"
            ]
          },
          "metadata": {},
          "execution_count": 11
        }
      ]
    },
    {
      "cell_type": "code",
      "source": [
        "image, label = train_d[0]"
      ],
      "metadata": {
        "id": "uA3khhzXcMbe"
      },
      "execution_count": null,
      "outputs": []
    },
    {
      "cell_type": "code",
      "source": [
        "image.shape"
      ],
      "metadata": {
        "colab": {
          "base_uri": "https://localhost:8080/"
        },
        "id": "IM6TyeKVcRic",
        "outputId": "9e481635-8db9-45e6-9ad5-e155b8791127"
      },
      "execution_count": null,
      "outputs": [
        {
          "output_type": "execute_result",
          "data": {
            "text/plain": [
              "torch.Size([1, 28, 28])"
            ]
          },
          "metadata": {},
          "execution_count": 13
        }
      ]
    },
    {
      "cell_type": "code",
      "source": [
        "x = torch.rand(size = (1,28,28))\n",
        "\n",
        "\n",
        "def patchify(data, p_size):\n",
        "\n",
        "  c,h,w = data.shape\n",
        "  ph,pw = p_size, p_size\n",
        "\n",
        "  np = (h // ph) * (w // pw)\n",
        "\n",
        "  data = data.view((c,np,ph,pw))\n",
        "  return data\n",
        "\n",
        "\n",
        "y = patchify(x,4)"
      ],
      "metadata": {
        "id": "3j7h1DfU_98X"
      },
      "execution_count": null,
      "outputs": []
    },
    {
      "cell_type": "code",
      "source": [
        "y.shape"
      ],
      "metadata": {
        "colab": {
          "base_uri": "https://localhost:8080/"
        },
        "id": "slICGqWVApjn",
        "outputId": "821d71a5-b1e5-4f4f-b1c7-9e9855aa65eb"
      },
      "execution_count": null,
      "outputs": [
        {
          "output_type": "execute_result",
          "data": {
            "text/plain": [
              "torch.Size([1, 49, 4, 4])"
            ]
          },
          "metadata": {},
          "execution_count": 15
        }
      ]
    },
    {
      "cell_type": "code",
      "source": [
        "class DS(Dataset):\n",
        "\n",
        "  def __init__(self, data, transform = None):\n",
        "    self.data = data\n",
        "    self.transform = transform\n",
        "\n",
        "  def __len__(self):\n",
        "    return len(self.data)\n",
        "\n",
        "\n",
        "  def patchify(self, data, p_size = 4):\n",
        "\n",
        "\n",
        "    c,h,w = data.shape\n",
        "    ph,pw = p_size, p_size\n",
        "\n",
        "    np = (h // ph) * (w // pw)\n",
        "\n",
        "    data = data.view((c,np,ph,pw))\n",
        "    return data\n",
        "\n",
        "\n",
        "  def __getitem__(self, idx):\n",
        "    image, label = self.data[idx]\n",
        "\n",
        "    if self.transform is not None:\n",
        "      image = self.transform(image)\n",
        "\n",
        "    image = self.patchify(image)\n",
        "    image = image.view((49,16))\n",
        "\n",
        "    return image, label"
      ],
      "metadata": {
        "id": "bn8gFhPCmqKX"
      },
      "execution_count": null,
      "outputs": []
    },
    {
      "cell_type": "code",
      "source": [
        "train_ds = DS(train_d)\n",
        "\n",
        "test_ds = DS(test_d)"
      ],
      "metadata": {
        "id": "ZUhqL2uD_iFA"
      },
      "execution_count": null,
      "outputs": []
    },
    {
      "cell_type": "code",
      "source": [
        "i,l = train_ds[0]"
      ],
      "metadata": {
        "id": "cxf8XCtW_q0s"
      },
      "execution_count": null,
      "outputs": []
    },
    {
      "cell_type": "code",
      "source": [
        "i.shape"
      ],
      "metadata": {
        "colab": {
          "base_uri": "https://localhost:8080/"
        },
        "id": "4SbNZgVK_6zr",
        "outputId": "9056b03c-e597-4907-8ce5-4b6b00b7c474"
      },
      "execution_count": null,
      "outputs": [
        {
          "output_type": "execute_result",
          "data": {
            "text/plain": [
              "torch.Size([49, 16])"
            ]
          },
          "metadata": {},
          "execution_count": 19
        }
      ]
    },
    {
      "cell_type": "code",
      "source": [
        "train_dl = DataLoader(dataset = train_ds, batch_size = 128, shuffle = True)\n",
        "\n",
        "test_dl =DataLoader(dataset = test_ds, batch_size = 128, shuffle = False)"
      ],
      "metadata": {
        "id": "789Z_uOFA_k0"
      },
      "execution_count": null,
      "outputs": []
    },
    {
      "cell_type": "code",
      "source": [
        "image, label = next(iter(train_dl))"
      ],
      "metadata": {
        "id": "YCq5dQFxBN0-"
      },
      "execution_count": null,
      "outputs": []
    },
    {
      "cell_type": "code",
      "source": [
        "print(image.shape)"
      ],
      "metadata": {
        "colab": {
          "base_uri": "https://localhost:8080/"
        },
        "id": "Kl3Hzv-IBSLI",
        "outputId": "e0409406-7cb7-4bd6-cd84-45c2a9b7ca30"
      },
      "execution_count": null,
      "outputs": [
        {
          "output_type": "stream",
          "name": "stdout",
          "text": [
            "torch.Size([128, 49, 16])\n"
          ]
        }
      ]
    },
    {
      "cell_type": "code",
      "source": [
        "x = torch.rand(size = (128,49,16))\n",
        "linear = nn.Linear(16,128)\n",
        "y = linear(x)"
      ],
      "metadata": {
        "id": "h9u4_UX1BTo7"
      },
      "execution_count": null,
      "outputs": []
    },
    {
      "cell_type": "code",
      "source": [
        "y.shape"
      ],
      "metadata": {
        "colab": {
          "base_uri": "https://localhost:8080/"
        },
        "id": "pubXQ90LBvOw",
        "outputId": "24891e4d-982c-4fe3-bbed-9d94def85671"
      },
      "execution_count": null,
      "outputs": [
        {
          "output_type": "execute_result",
          "data": {
            "text/plain": [
              "torch.Size([128, 49, 128])"
            ]
          },
          "metadata": {},
          "execution_count": 24
        }
      ]
    },
    {
      "cell_type": "code",
      "source": [
        "class ViT(nn.Module):\n",
        "\n",
        "  def __init__(self):\n",
        "    super(ViT, self).__init__()\n",
        "    self.linear_1 = nn.Linear(16,128)\n",
        "    # self.encoder_layer = nn.TransformerEncoderLayer(128,4)\n",
        "    # self.encoder = nn.TransformerEncoder(self.encoder_layer, 1)\n",
        "    self.mamba = Mamba(128)\n",
        "    self.linear_2 = nn.Linear(128*49,10)\n",
        "\n",
        "\n",
        "\n",
        "  def forward(self, x):\n",
        "    x = self.linear_1(x)\n",
        "    # x = self.encoder(x)\n",
        "    x = self.mamba(x)\n",
        "    x = x.view((-1,49*128))\n",
        "    x = self.linear_2(x)\n",
        "    return x\n",
        "\n"
      ],
      "metadata": {
        "id": "AQRljNFvBwZ_"
      },
      "execution_count": null,
      "outputs": []
    },
    {
      "cell_type": "code",
      "source": [
        "vit = ViT().to(device)\n",
        "x = torch.rand(size = (128,49,16)).to(device)\n",
        "y = vit(x)"
      ],
      "metadata": {
        "id": "XR9ZWzpTCqYf"
      },
      "execution_count": null,
      "outputs": []
    },
    {
      "cell_type": "code",
      "source": [
        "y.shape"
      ],
      "metadata": {
        "colab": {
          "base_uri": "https://localhost:8080/"
        },
        "id": "uP0r_F0dCxpl",
        "outputId": "3295c453-a7e5-499d-a8f9-73d731fd1c16"
      },
      "execution_count": null,
      "outputs": [
        {
          "output_type": "execute_result",
          "data": {
            "text/plain": [
              "torch.Size([128, 10])"
            ]
          },
          "metadata": {},
          "execution_count": 28
        }
      ]
    },
    {
      "cell_type": "code",
      "source": [
        "opt = torch.optim.Adam(params = vit.parameters(), lr = 1e-3)\n",
        "loss_fn = nn.CrossEntropyLoss()"
      ],
      "metadata": {
        "id": "_pn-H7xlDfoR"
      },
      "execution_count": null,
      "outputs": []
    },
    {
      "cell_type": "code",
      "source": [
        "def train(data, model, loss_fn, opt):\n",
        "\n",
        "  model.train()\n",
        "  size = len(data.dataset)\n",
        "  for b,(x,y) in enumerate(data):\n",
        "    x,y = x.to(device), y.to(device)\n",
        "    y_pred = model(x)\n",
        "    loss = loss_fn(y_pred, y)\n",
        "\n",
        "    opt.zero_grad()\n",
        "    loss.backward()\n",
        "    opt.step()\n",
        "\n",
        "    if b % 100 == 0:\n",
        "      print(f\"loss:{loss.item()} [{b*len(x)} | {size}]\")\n",
        "\n",
        "\n"
      ],
      "metadata": {
        "id": "8CbXtpPiC0NG"
      },
      "execution_count": null,
      "outputs": []
    },
    {
      "cell_type": "code",
      "source": [
        "def test(data, model, loss_fn):\n",
        "\n",
        "  model.eval()\n",
        "  test_loss, test_acc = 0,0\n",
        "  size = len(data.dataset)\n",
        "  num_batch = len(data)\n",
        "\n",
        "  with torch.no_grad():\n",
        "    for x,y in data:\n",
        "      x,y = x.to(device), y.to(device)\n",
        "      y_pred = model(x)\n",
        "      test_loss += loss_fn(y_pred, y).item()\n",
        "      test_acc += (y_pred.argmax(1)==y).type(torch.float).sum().item()\n",
        "\n",
        "\n",
        "    test_loss /= num_batch\n",
        "    test_acc /= size\n",
        "\n",
        "    print(f\"test loss : {test_loss} test_acc:{test_acc * 100}\")"
      ],
      "metadata": {
        "id": "qvttN9naECAj"
      },
      "execution_count": null,
      "outputs": []
    },
    {
      "cell_type": "code",
      "source": [
        "for e in range(10):\n",
        "  print(f\"e:{e+1}=-=-=-=\")\n",
        "  train(train_dl, vit, loss_fn, opt)\n",
        "  test(test_dl, vit, loss_fn)\n"
      ],
      "metadata": {
        "colab": {
          "base_uri": "https://localhost:8080/"
        },
        "id": "UZ7curi2Ereu",
        "outputId": "1d9fbc4a-8f41-4d23-ec9e-99022d48df0f"
      },
      "execution_count": null,
      "outputs": [
        {
          "output_type": "stream",
          "name": "stdout",
          "text": [
            "e:1=-=-=-=\n",
            "loss:2.3025152683258057 [0 | 60000]\n",
            "loss:0.32290220260620117 [12800 | 60000]\n",
            "loss:0.3095763325691223 [25600 | 60000]\n",
            "loss:0.1347079575061798 [38400 | 60000]\n",
            "loss:0.2218817174434662 [51200 | 60000]\n",
            "test loss : 0.12128578026224918 test_acc:96.23\n",
            "e:2=-=-=-=\n",
            "loss:0.10321967303752899 [0 | 60000]\n",
            "loss:0.3236004710197449 [12800 | 60000]\n",
            "loss:0.13325367867946625 [25600 | 60000]\n",
            "loss:0.06922060996294022 [38400 | 60000]\n",
            "loss:0.06454239785671234 [51200 | 60000]\n",
            "test loss : 0.08395919760341367 test_acc:97.21\n",
            "e:3=-=-=-=\n",
            "loss:0.08210990577936172 [0 | 60000]\n",
            "loss:0.04477821663022041 [12800 | 60000]\n",
            "loss:0.03670801222324371 [25600 | 60000]\n",
            "loss:0.049624744802713394 [38400 | 60000]\n",
            "loss:0.07914181798696518 [51200 | 60000]\n",
            "test loss : 0.0711551619298709 test_acc:97.63\n",
            "e:4=-=-=-=\n",
            "loss:0.035897232592105865 [0 | 60000]\n",
            "loss:0.05256902426481247 [12800 | 60000]\n",
            "loss:0.06418772041797638 [25600 | 60000]\n",
            "loss:0.07647466659545898 [38400 | 60000]\n",
            "loss:0.0694720447063446 [51200 | 60000]\n",
            "test loss : 0.06506112692406095 test_acc:97.78\n",
            "e:5=-=-=-=\n",
            "loss:0.016405317932367325 [0 | 60000]\n",
            "loss:0.01943349838256836 [12800 | 60000]\n",
            "loss:0.012839696370065212 [25600 | 60000]\n",
            "loss:0.015177184715867043 [38400 | 60000]\n",
            "loss:0.14531534910202026 [51200 | 60000]\n",
            "test loss : 0.06403033715920357 test_acc:97.96000000000001\n",
            "e:6=-=-=-=\n",
            "loss:0.02103978581726551 [0 | 60000]\n",
            "loss:0.02505210041999817 [12800 | 60000]\n",
            "loss:0.06223791465163231 [25600 | 60000]\n",
            "loss:0.06568197160959244 [38400 | 60000]\n",
            "loss:0.0031840719748288393 [51200 | 60000]\n",
            "test loss : 0.05719896281636143 test_acc:98.29\n",
            "e:7=-=-=-=\n",
            "loss:0.007266945205628872 [0 | 60000]\n",
            "loss:0.015409513376653194 [12800 | 60000]\n",
            "loss:0.01423829048871994 [25600 | 60000]\n",
            "loss:0.024611348286271095 [38400 | 60000]\n",
            "loss:0.01821586862206459 [51200 | 60000]\n",
            "test loss : 0.05884815308741917 test_acc:98.36\n",
            "e:8=-=-=-=\n",
            "loss:0.005109508987516165 [0 | 60000]\n",
            "loss:0.01162560936063528 [12800 | 60000]\n",
            "loss:0.05984416604042053 [25600 | 60000]\n",
            "loss:0.043496761471033096 [38400 | 60000]\n",
            "loss:0.03807372972369194 [51200 | 60000]\n",
            "test loss : 0.052638200614188765 test_acc:98.38\n",
            "e:9=-=-=-=\n",
            "loss:0.003377520479261875 [0 | 60000]\n",
            "loss:0.0917157232761383 [12800 | 60000]\n",
            "loss:0.014934149570763111 [25600 | 60000]\n",
            "loss:0.03651699423789978 [38400 | 60000]\n",
            "loss:0.08828509598970413 [51200 | 60000]\n",
            "test loss : 0.05609353480302829 test_acc:98.34\n",
            "e:10=-=-=-=\n",
            "loss:0.016712626442313194 [0 | 60000]\n",
            "loss:0.0019978992640972137 [12800 | 60000]\n",
            "loss:0.018791353330016136 [25600 | 60000]\n",
            "loss:0.03970545902848244 [38400 | 60000]\n",
            "loss:0.03322429209947586 [51200 | 60000]\n",
            "test loss : 0.06565905129974464 test_acc:98.33\n"
          ]
        }
      ]
    },
    {
      "cell_type": "code",
      "source": [],
      "metadata": {
        "id": "wqI-iGrNE4r1"
      },
      "execution_count": null,
      "outputs": []
    }
  ]
}